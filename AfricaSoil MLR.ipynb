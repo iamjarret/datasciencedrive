{
 "metadata": {
  "name": "",
  "signature": "sha256:9690f967e4f650f83d2bcf957be0aea767a0b63993f2d14323d3fa52a7b7a57a"
 },
 "nbformat": 3,
 "nbformat_minor": 0,
 "worksheets": [
  {
   "cells": [
    {
     "cell_type": "code",
     "collapsed": false,
     "input": [
      "import pandas as pd\n",
      "import numpy as np\n",
      "import matplotlib.pyplot as plt\n",
      "import seaborn as sns\n",
      "from sklearn.linear_model import LinearRegression\n",
      "import statsmodels.formula.api as smf\n",
      "import scipy.stats as stats"
     ],
     "language": "python",
     "metadata": {},
     "outputs": [],
     "prompt_number": 1
    },
    {
     "cell_type": "code",
     "collapsed": false,
     "input": [
      "import os\n",
      "\n",
      "africatest = pd.read_csv(os.path.join('dataexplor02', 'africa_test.csv'))\n",
      "AfricaSoil = pd.read_csv(os.path.join('dataexplor02', 'africa_ph.csv'))\n",
      "                                      "
     ],
     "language": "python",
     "metadata": {},
     "outputs": [],
     "prompt_number": 2
    },
    {
     "cell_type": "code",
     "collapsed": false,
     "input": [
      "africatest.head()"
     ],
     "language": "python",
     "metadata": {},
     "outputs": [
      {
       "html": [
        "<div style=\"max-height:1000px;max-width:1500px;overflow:auto;\">\n",
        "<table border=\"1\" class=\"dataframe\">\n",
        "  <thead>\n",
        "    <tr style=\"text-align: right;\">\n",
        "      <th></th>\n",
        "      <th>PIDN</th>\n",
        "      <th>JmEfIxOL</th>\n",
        "    </tr>\n",
        "  </thead>\n",
        "  <tbody>\n",
        "    <tr>\n",
        "      <th>0</th>\n",
        "      <td>       ELEV</td>\n",
        "      <td> 1.314699</td>\n",
        "    </tr>\n",
        "    <tr>\n",
        "      <th>1</th>\n",
        "      <td>       REF2</td>\n",
        "      <td>-0.630798</td>\n",
        "    </tr>\n",
        "    <tr>\n",
        "      <th>2</th>\n",
        "      <td>       BSAN</td>\n",
        "      <td>-0.760870</td>\n",
        "    </tr>\n",
        "    <tr>\n",
        "      <th>3</th>\n",
        "      <td>       LSTN</td>\n",
        "      <td>-0.988977</td>\n",
        "    </tr>\n",
        "    <tr>\n",
        "      <th>4</th>\n",
        "      <td> Infrared01</td>\n",
        "      <td> 0.173816</td>\n",
        "    </tr>\n",
        "  </tbody>\n",
        "</table>\n",
        "</div>"
       ],
       "metadata": {},
       "output_type": "pyout",
       "prompt_number": 3,
       "text": [
        "         PIDN  JmEfIxOL\n",
        "0        ELEV  1.314699\n",
        "1        REF2 -0.630798\n",
        "2        BSAN -0.760870\n",
        "3        LSTN -0.988977\n",
        "4  Infrared01  0.173816"
       ]
      }
     ],
     "prompt_number": 3
    },
    {
     "cell_type": "code",
     "collapsed": false,
     "input": [
      "africatest.shape"
     ],
     "language": "python",
     "metadata": {},
     "outputs": [
      {
       "metadata": {},
       "output_type": "pyout",
       "prompt_number": 4,
       "text": [
        "(9, 2)"
       ]
      }
     ],
     "prompt_number": 4
    },
    {
     "cell_type": "code",
     "collapsed": false,
     "input": [
      "AfricaSoil.head()"
     ],
     "language": "python",
     "metadata": {},
     "outputs": [
      {
       "html": [
        "<div style=\"max-height:1000px;max-width:1500px;overflow:auto;\">\n",
        "<table border=\"1\" class=\"dataframe\">\n",
        "  <thead>\n",
        "    <tr style=\"text-align: right;\">\n",
        "      <th></th>\n",
        "      <th>Unnamed: 0</th>\n",
        "      <th>PIDN</th>\n",
        "      <th>pH</th>\n",
        "      <th>ELEV</th>\n",
        "      <th>REF2</th>\n",
        "      <th>BSAN</th>\n",
        "      <th>LSTN</th>\n",
        "      <th>Infrared01</th>\n",
        "      <th>Infrared02</th>\n",
        "      <th>Infrared03</th>\n",
        "      <th>Infrared04</th>\n",
        "      <th>Infrared05</th>\n",
        "    </tr>\n",
        "  </thead>\n",
        "  <tbody>\n",
        "    <tr>\n",
        "      <th>0</th>\n",
        "      <td> 32</td>\n",
        "      <td> d9u06tdU</td>\n",
        "      <td>-0.044436</td>\n",
        "      <td> 0.904900</td>\n",
        "      <td>-0.352505</td>\n",
        "      <td>-0.710145</td>\n",
        "      <td>-0.371001</td>\n",
        "      <td> 0.378298</td>\n",
        "      <td> 0.056228</td>\n",
        "      <td> 1.349732</td>\n",
        "      <td> 1.81377</td>\n",
        "      <td> 1.65483</td>\n",
        "    </tr>\n",
        "    <tr>\n",
        "      <th>1</th>\n",
        "      <td> 33</td>\n",
        "      <td> qsQFu3ef</td>\n",
        "      <td>-0.455961</td>\n",
        "      <td> 0.904900</td>\n",
        "      <td>-0.352505</td>\n",
        "      <td>-0.710145</td>\n",
        "      <td>-0.371001</td>\n",
        "      <td> 0.374321</td>\n",
        "      <td> 0.072229</td>\n",
        "      <td> 1.459569</td>\n",
        "      <td> 1.78552</td>\n",
        "      <td> 1.62982</td>\n",
        "    </tr>\n",
        "    <tr>\n",
        "      <th>2</th>\n",
        "      <td> 34</td>\n",
        "      <td> C4kj5IMN</td>\n",
        "      <td>-0.549490</td>\n",
        "      <td> 0.971715</td>\n",
        "      <td>-0.352505</td>\n",
        "      <td>-0.702899</td>\n",
        "      <td>-0.399312</td>\n",
        "      <td> 0.390773</td>\n",
        "      <td> 0.048228</td>\n",
        "      <td> 1.555917</td>\n",
        "      <td> 1.73194</td>\n",
        "      <td> 1.63317</td>\n",
        "    </tr>\n",
        "    <tr>\n",
        "      <th>3</th>\n",
        "      <td> 35</td>\n",
        "      <td> p1SCgsM8</td>\n",
        "      <td>-0.951662</td>\n",
        "      <td> 0.971715</td>\n",
        "      <td>-0.352505</td>\n",
        "      <td>-0.702899</td>\n",
        "      <td>-0.399312</td>\n",
        "      <td> 0.385719</td>\n",
        "      <td> 0.047679</td>\n",
        "      <td> 1.662981</td>\n",
        "      <td> 1.68115</td>\n",
        "      <td> 1.69190</td>\n",
        "    </tr>\n",
        "    <tr>\n",
        "      <th>4</th>\n",
        "      <td> 36</td>\n",
        "      <td> UqyLWYTl</td>\n",
        "      <td>-0.427903</td>\n",
        "      <td> 0.929399</td>\n",
        "      <td>-0.506494</td>\n",
        "      <td>-0.695652</td>\n",
        "      <td>-0.543779</td>\n",
        "      <td> 0.411471</td>\n",
        "      <td> 0.043002</td>\n",
        "      <td> 1.522019</td>\n",
        "      <td> 1.71672</td>\n",
        "      <td> 1.68936</td>\n",
        "    </tr>\n",
        "  </tbody>\n",
        "</table>\n",
        "</div>"
       ],
       "metadata": {},
       "output_type": "pyout",
       "prompt_number": 6,
       "text": [
        "   Unnamed: 0      PIDN        pH      ELEV      REF2      BSAN      LSTN  \\\n",
        "0          32  d9u06tdU -0.044436  0.904900 -0.352505 -0.710145 -0.371001   \n",
        "1          33  qsQFu3ef -0.455961  0.904900 -0.352505 -0.710145 -0.371001   \n",
        "2          34  C4kj5IMN -0.549490  0.971715 -0.352505 -0.702899 -0.399312   \n",
        "3          35  p1SCgsM8 -0.951662  0.971715 -0.352505 -0.702899 -0.399312   \n",
        "4          36  UqyLWYTl -0.427903  0.929399 -0.506494 -0.695652 -0.543779   \n",
        "\n",
        "   Infrared01  Infrared02  Infrared03  Infrared04  Infrared05  \n",
        "0    0.378298    0.056228    1.349732     1.81377     1.65483  \n",
        "1    0.374321    0.072229    1.459569     1.78552     1.62982  \n",
        "2    0.390773    0.048228    1.555917     1.73194     1.63317  \n",
        "3    0.385719    0.047679    1.662981     1.68115     1.69190  \n",
        "4    0.411471    0.043002    1.522019     1.71672     1.68936  "
       ]
      }
     ],
     "prompt_number": 6
    },
    {
     "cell_type": "code",
     "collapsed": false,
     "input": [
      "AfricaSoil.shape"
     ],
     "language": "python",
     "metadata": {},
     "outputs": [
      {
       "metadata": {},
       "output_type": "pyout",
       "prompt_number": 7,
       "text": [
        "(736, 12)"
       ]
      }
     ],
     "prompt_number": 7
    },
    {
     "cell_type": "code",
     "collapsed": false,
     "input": [
      "AfricaTest = africatest.transpose()"
     ],
     "language": "python",
     "metadata": {},
     "outputs": [],
     "prompt_number": 8
    },
    {
     "cell_type": "code",
     "collapsed": false,
     "input": [
      "AfricaTest.shape"
     ],
     "language": "python",
     "metadata": {},
     "outputs": [
      {
       "metadata": {},
       "output_type": "pyout",
       "prompt_number": 9,
       "text": [
        "(2, 9)"
       ]
      }
     ],
     "prompt_number": 9
    },
    {
     "cell_type": "code",
     "collapsed": false,
     "input": [
      "AfricaSoil.pH.hist(bins=50)"
     ],
     "language": "python",
     "metadata": {},
     "outputs": [
      {
       "metadata": {},
       "output_type": "pyout",
       "prompt_number": 10,
       "text": [
        "<matplotlib.axes.AxesSubplot at 0x7f97e8ce3410>"
       ]
      },
      {
       "output_type": "stream",
       "stream": "stderr",
       "text": [
        "/usr/lib/pymodules/python2.7/matplotlib/font_manager.py:1236: UserWarning: findfont: Font family ['sans-serif'] not found. Falling back to Bitstream Vera Sans\n",
        "  (prop.get_family(), self.defaultFamily[fontext]))\n",
        "/usr/lib/pymodules/python2.7/matplotlib/font_manager.py:1246: UserWarning: findfont: Could not match :family=Bitstream Vera Sans:style=normal:variant=normal:weight=normal:stretch=normal:size=10.0. Returning /usr/share/matplotlib/mpl-data/fonts/ttf/cmb10.ttf\n",
        "  UserWarning)\n"
       ]
      },
      {
       "metadata": {},
       "output_type": "display_data",
       "png": "[encoded data removed]",
       "text": [
        "<matplotlib.figure.Figure at 0x7f97d2162710>"
       ]
      }
     ],
     "prompt_number": 10
    },
    {
     "cell_type": "code",
     "collapsed": false,
     "input": [
      "fig, axes = plt.subplots(2, 3, sharex=False, sharey=False)\n",
      "AfricaSoil.Infrared01.hist(ax=axes[0,0], bins=5, color='red'), \n",
      "AfricaSoil.Infrared02.hist(ax=axes[0,1], bins=5, color='blue'), \n",
      "AfricaSoil.Infrared03.hist(ax=axes[0,2], bins=5, color='yellow'), \n",
      "AfricaSoil.Infrared04.hist(ax=axes[1,0], bins=5, color='green'), \n",
      "AfricaSoil.Infrared05.hist(ax=axes[1,1], bins=5, color='purple') "
     ],
     "language": "python",
     "metadata": {},
     "outputs": [
      {
       "metadata": {},
       "output_type": "pyout",
       "prompt_number": 11,
       "text": [
        "<matplotlib.axes.AxesSubplot at 0x7f97d1d23ad0>"
       ]
      },
      {
       "metadata": {},
       "output_type": "display_data",
       "png": "[encoded data removed]",
       "text": [
        "<matplotlib.figure.Figure at 0x7f97d2184610>"
       ]
      }
     ],
     "prompt_number": 11
    },
    {
     "cell_type": "code",
     "collapsed": false,
     "input": [
      "##data appears to have normal dist but use shapiro to verify\n",
      "stats.shapiro(AfricaSoil.pH), stats.shapiro(AfricaSoil.Infrared01), stats.shapiro(AfricaSoil.Infrared02), stats.shapiro(AfricaSoil.Infrared03), stats.shapiro(AfricaSoil.Infrared04), stats.shapiro(AfricaSoil.Infrared05)"
     ],
     "language": "python",
     "metadata": {},
     "outputs": [
      {
       "metadata": {},
       "output_type": "pyout",
       "prompt_number": 12,
       "text": [
        "((0.9359298944473267, 3.0753870416839674e-17),\n",
        " (0.9630603790283203, 1.1424400921805633e-12),\n",
        " (0.8932340145111084, 3.598147817055265e-22),\n",
        " (0.9761322140693665, 1.3567270640280071e-09),\n",
        " (0.9216793179512024, 4.247459742101337e-19),\n",
        " (0.9886549115180969, 1.816642725316342e-05))"
       ]
      }
     ],
     "prompt_number": 12
    },
    {
     "cell_type": "code",
     "collapsed": false,
     "input": [
      "#####shapiro test rejects assumption of normality"
     ],
     "language": "python",
     "metadata": {},
     "outputs": [],
     "prompt_number": 13
    },
    {
     "cell_type": "code",
     "collapsed": false,
     "input": [
      "sns.corrplot(AfricaSoil)"
     ],
     "language": "python",
     "metadata": {},
     "outputs": [
      {
       "metadata": {},
       "output_type": "pyout",
       "prompt_number": 14,
       "text": [
        "<matplotlib.axes.AxesSubplot at 0x7f97d1edc110>"
       ]
      },
      {
       "output_type": "stream",
       "stream": "stderr",
       "text": [
        "/usr/lib/pymodules/python2.7/matplotlib/font_manager.py:1246: UserWarning: findfont: Could not match :family=Bitstream Vera Sans:style=normal:variant=normal:weight=bold:stretch=normal:size=10.0. Returning /usr/share/matplotlib/mpl-data/fonts/ttf/cmb10.ttf\n",
        "  UserWarning)\n"
       ]
      },
      {
       "metadata": {},
       "output_type": "display_data",
       "png": "[encoded data removed]",
       "text": [
        "<matplotlib.figure.Figure at 0x7f97d1ed2b50>"
       ]
      }
     ],
     "prompt_number": 14
    },
    {
     "cell_type": "code",
     "collapsed": false,
     "input": [
      "### corr weak between all predictors"
     ],
     "language": "python",
     "metadata": {},
     "outputs": [],
     "prompt_number": 15
    },
    {
     "cell_type": "code",
     "collapsed": false,
     "input": [
      "### multiple linear regression"
     ],
     "language": "python",
     "metadata": {},
     "outputs": [],
     "prompt_number": 16
    },
    {
     "cell_type": "code",
     "collapsed": false,
     "input": [
      "X = AfricaSoil[['ELEV', 'REF2', 'BSAN', 'LSTN', 'Infrared01', 'Infrared02', 'Infrared03', 'Infrared04', 'Infrared05']]\n",
      "y = AfricaSoil['pH']\n"
     ],
     "language": "python",
     "metadata": {},
     "outputs": [],
     "prompt_number": 26
    },
    {
     "cell_type": "code",
     "collapsed": false,
     "input": [],
     "language": "python",
     "metadata": {},
     "outputs": [],
     "prompt_number": 26
    },
    {
     "cell_type": "code",
     "collapsed": false,
     "input": [
      "fit = smf.ols(formula='y ~ X', data=AfricaSoil).fit()\n",
      "fit.summary()"
     ],
     "language": "python",
     "metadata": {},
     "outputs": [
      {
       "html": [
        "<table class=\"simpletable\">\n",
        "<caption>OLS Regression Results</caption>\n",
        "<tr>\n",
        "  <th>Dep. Variable:</th>            <td>y</td>        <th>  R-squared:         </th> <td>   0.585</td> \n",
        "</tr>\n",
        "<tr>\n",
        "  <th>Model:</th>                   <td>OLS</td>       <th>  Adj. R-squared:    </th> <td>   0.580</td> \n",
        "</tr>\n",
        "<tr>\n",
        "  <th>Method:</th>             <td>Least Squares</td>  <th>  F-statistic:       </th> <td>   113.9</td> \n",
        "</tr>\n",
        "<tr>\n",
        "  <th>Date:</th>             <td>Mon, 10 Nov 2014</td> <th>  Prob (F-statistic):</th> <td>1.87e-132</td>\n",
        "</tr>\n",
        "<tr>\n",
        "  <th>Time:</th>                 <td>17:04:06</td>     <th>  Log-Likelihood:    </th> <td> -693.19</td> \n",
        "</tr>\n",
        "<tr>\n",
        "  <th>No. Observations:</th>      <td>   736</td>      <th>  AIC:               </th> <td>   1406.</td> \n",
        "</tr>\n",
        "<tr>\n",
        "  <th>Df Residuals:</th>          <td>   726</td>      <th>  BIC:               </th> <td>   1452.</td> \n",
        "</tr>\n",
        "<tr>\n",
        "  <th>Df Model:</th>              <td>     9</td>      <th>                     </th>     <td> </td>    \n",
        "</tr>\n",
        "</table>\n",
        "<table class=\"simpletable\">\n",
        "<tr>\n",
        "      <td></td>         <th>coef</th>     <th>std err</th>      <th>t</th>      <th>P>|t|</th> <th>[95.0% Conf. Int.]</th> \n",
        "</tr>\n",
        "<tr>\n",
        "  <th>Intercept</th> <td>    5.4207</td> <td>    0.450</td> <td>   12.046</td> <td> 0.000</td> <td>    4.537     6.304</td>\n",
        "</tr>\n",
        "<tr>\n",
        "  <th>X[0]</th>      <td>   -0.0997</td> <td>    0.037</td> <td>   -2.712</td> <td> 0.007</td> <td>   -0.172    -0.028</td>\n",
        "</tr>\n",
        "<tr>\n",
        "  <th>X[1]</th>      <td>   -0.7859</td> <td>    0.102</td> <td>   -7.743</td> <td> 0.000</td> <td>   -0.985    -0.587</td>\n",
        "</tr>\n",
        "<tr>\n",
        "  <th>X[2]</th>      <td>    1.7593</td> <td>    0.169</td> <td>   10.406</td> <td> 0.000</td> <td>    1.427     2.091</td>\n",
        "</tr>\n",
        "<tr>\n",
        "  <th>X[3]</th>      <td>   -0.1491</td> <td>    0.056</td> <td>   -2.670</td> <td> 0.008</td> <td>   -0.259    -0.039</td>\n",
        "</tr>\n",
        "<tr>\n",
        "  <th>X[4]</th>      <td>    1.0185</td> <td>    0.317</td> <td>    3.213</td> <td> 0.001</td> <td>    0.396     1.641</td>\n",
        "</tr>\n",
        "<tr>\n",
        "  <th>X[5]</th>      <td>   11.2763</td> <td>    0.805</td> <td>   13.999</td> <td> 0.000</td> <td>    9.695    12.858</td>\n",
        "</tr>\n",
        "<tr>\n",
        "  <th>X[6]</th>      <td>   -1.3045</td> <td>    0.130</td> <td>  -10.048</td> <td> 0.000</td> <td>   -1.559    -1.050</td>\n",
        "</tr>\n",
        "<tr>\n",
        "  <th>X[7]</th>      <td>   -1.7118</td> <td>    0.167</td> <td>  -10.264</td> <td> 0.000</td> <td>   -2.039    -1.384</td>\n",
        "</tr>\n",
        "<tr>\n",
        "  <th>X[8]</th>      <td>   -0.7116</td> <td>    0.233</td> <td>   -3.059</td> <td> 0.002</td> <td>   -1.168    -0.255</td>\n",
        "</tr>\n",
        "</table>\n",
        "<table class=\"simpletable\">\n",
        "<tr>\n",
        "  <th>Omnibus:</th>       <td> 0.385</td> <th>  Durbin-Watson:     </th> <td>   0.835</td>\n",
        "</tr>\n",
        "<tr>\n",
        "  <th>Prob(Omnibus):</th> <td> 0.825</td> <th>  Jarque-Bera (JB):  </th> <td>   0.275</td>\n",
        "</tr>\n",
        "<tr>\n",
        "  <th>Skew:</th>          <td>-0.034</td> <th>  Prob(JB):          </th> <td>   0.871</td>\n",
        "</tr>\n",
        "<tr>\n",
        "  <th>Kurtosis:</th>      <td> 3.066</td> <th>  Cond. No.          </th> <td>    107.</td>\n",
        "</tr>\n",
        "</table>"
       ],
       "metadata": {},
       "output_type": "pyout",
       "prompt_number": 27,
       "text": [
        "<class 'statsmodels.iolib.summary.Summary'>\n",
        "\"\"\"\n",
        "                            OLS Regression Results                            \n",
        "==============================================================================\n",
        "Dep. Variable:                      y   R-squared:                       0.585\n",
        "Model:                            OLS   Adj. R-squared:                  0.580\n",
        "Method:                 Least Squares   F-statistic:                     113.9\n",
        "Date:                Mon, 10 Nov 2014   Prob (F-statistic):          1.87e-132\n",
        "Time:                        17:04:06   Log-Likelihood:                -693.19\n",
        "No. Observations:                 736   AIC:                             1406.\n",
        "Df Residuals:                     726   BIC:                             1452.\n",
        "Df Model:                           9                                         \n",
        "==============================================================================\n",
        "                 coef    std err          t      P>|t|      [95.0% Conf. Int.]\n",
        "------------------------------------------------------------------------------\n",
        "Intercept      5.4207      0.450     12.046      0.000         4.537     6.304\n",
        "X[0]          -0.0997      0.037     -2.712      0.007        -0.172    -0.028\n",
        "X[1]          -0.7859      0.102     -7.743      0.000        -0.985    -0.587\n",
        "X[2]           1.7593      0.169     10.406      0.000         1.427     2.091\n",
        "X[3]          -0.1491      0.056     -2.670      0.008        -0.259    -0.039\n",
        "X[4]           1.0185      0.317      3.213      0.001         0.396     1.641\n",
        "X[5]          11.2763      0.805     13.999      0.000         9.695    12.858\n",
        "X[6]          -1.3045      0.130    -10.048      0.000        -1.559    -1.050\n",
        "X[7]          -1.7118      0.167    -10.264      0.000        -2.039    -1.384\n",
        "X[8]          -0.7116      0.233     -3.059      0.002        -1.168    -0.255\n",
        "==============================================================================\n",
        "Omnibus:                        0.385   Durbin-Watson:                   0.835\n",
        "Prob(Omnibus):                  0.825   Jarque-Bera (JB):                0.275\n",
        "Skew:                          -0.034   Prob(JB):                        0.871\n",
        "Kurtosis:                       3.066   Cond. No.                         107.\n",
        "==============================================================================\n",
        "\"\"\""
       ]
      }
     ],
     "prompt_number": 27
    },
    {
     "cell_type": "code",
     "collapsed": false,
     "input": [
      "AfricaTest"
     ],
     "language": "python",
     "metadata": {},
     "outputs": [
      {
       "html": [
        "<div style=\"max-height:1000px;max-width:1500px;overflow:auto;\">\n",
        "<table border=\"1\" class=\"dataframe\">\n",
        "  <thead>\n",
        "    <tr style=\"text-align: right;\">\n",
        "      <th></th>\n",
        "      <th>0</th>\n",
        "      <th>1</th>\n",
        "      <th>2</th>\n",
        "      <th>3</th>\n",
        "      <th>4</th>\n",
        "      <th>5</th>\n",
        "      <th>6</th>\n",
        "      <th>7</th>\n",
        "      <th>8</th>\n",
        "    </tr>\n",
        "  </thead>\n",
        "  <tbody>\n",
        "    <tr>\n",
        "      <th>PIDN</th>\n",
        "      <td>     ELEV</td>\n",
        "      <td>      REF2</td>\n",
        "      <td>      BSAN</td>\n",
        "      <td>      LSTN</td>\n",
        "      <td> Infrared01</td>\n",
        "      <td> Infrared02</td>\n",
        "      <td> Infrared03</td>\n",
        "      <td> Infrared04</td>\n",
        "      <td> Infrared05</td>\n",
        "    </tr>\n",
        "    <tr>\n",
        "      <th>JmEfIxOL</th>\n",
        "      <td> 1.314699</td>\n",
        "      <td>-0.6307978</td>\n",
        "      <td>-0.7608696</td>\n",
        "      <td>-0.9889769</td>\n",
        "      <td>   0.173816</td>\n",
        "      <td>    0.04079</td>\n",
        "      <td>   1.306674</td>\n",
        "      <td>    1.78432</td>\n",
        "      <td>    1.26964</td>\n",
        "    </tr>\n",
        "  </tbody>\n",
        "</table>\n",
        "</div>"
       ],
       "metadata": {},
       "output_type": "pyout",
       "prompt_number": 28,
       "text": [
        "                 0          1          2          3           4           5  \\\n",
        "PIDN          ELEV       REF2       BSAN       LSTN  Infrared01  Infrared02   \n",
        "JmEfIxOL  1.314699 -0.6307978 -0.7608696 -0.9889769    0.173816     0.04079   \n",
        "\n",
        "                   6           7           8  \n",
        "PIDN      Infrared03  Infrared04  Infrared05  \n",
        "JmEfIxOL    1.306674     1.78432     1.26964  "
       ]
      }
     ],
     "prompt_number": 28
    },
    {
     "cell_type": "code",
     "collapsed": false,
     "input": [
      "print AfricaTest.ix[\"JmEfIxOL\"]"
     ],
     "language": "python",
     "metadata": {},
     "outputs": [
      {
       "output_type": "stream",
       "stream": "stdout",
       "text": [
        "0     1.314699\n",
        "1   -0.6307978\n",
        "2   -0.7608696\n",
        "3   -0.9889769\n",
        "4     0.173816\n",
        "5      0.04079\n",
        "6     1.306674\n",
        "7      1.78432\n",
        "8      1.26964\n",
        "Name: JmEfIxOL, dtype: object\n"
       ]
      }
     ],
     "prompt_number": 29
    },
    {
     "cell_type": "code",
     "collapsed": false,
     "input": [
      "fit.predict(AfricaTest.ix[\"JmEfIxOL\"])"
     ],
     "language": "python",
     "metadata": {},
     "outputs": [
      {
       "metadata": {},
       "output_type": "pyout",
       "prompt_number": 30,
       "text": [
        "array([-0.61044688, -0.51119404, -0.79112685, -0.89698364, -0.63916927,\n",
        "       -0.81321769, -0.80132468, -1.01957017, -0.99542607, -1.07093392,\n",
        "       -0.8786477 , -1.0291944 , -0.61567058, -0.96039615, -0.75651831,\n",
        "       -0.86048031, -0.71297684, -0.7917397 , -0.69815137, -0.76273935,\n",
        "       -0.7813399 , -0.83502332, -0.80900428, -0.88364525, -0.39960676,\n",
        "       -0.83660089, -0.58129207, -0.85970003, -0.89473238, -0.7726518 ,\n",
        "       -0.46607843, -0.74638438,  1.082625  ,  1.28855689,  1.15180176,\n",
        "        1.26532676,  0.60684632,  0.8378122 ,  0.73834505,  0.81606669,\n",
        "        0.65796661,  0.75275096,  1.16365759,  1.06840742,  1.1280186 ,\n",
        "        1.13336421,  0.93597501,  1.07390275,  1.12205626,  1.35108857,\n",
        "        0.84007773,  0.87118479,  1.21133784,  1.19999306,  0.91657299,\n",
        "        1.0157652 ,  1.05491242,  0.83264714,  0.81319315,  0.80639224,\n",
        "        0.97089124,  0.67294076,  0.72577588,  0.67004834,  0.89665766,\n",
        "        0.28467317,  0.2236255 ,  0.28194236,  0.13296164, -0.12294941,\n",
        "       -0.10794898, -0.03953183, -0.11566279,  0.16804947,  0.37884163,\n",
        "       -0.05531197, -0.04098556,  0.22898897,  0.23126669,  0.2221745 ,\n",
        "        0.0228371 ,  0.22257949,  0.05236643,  0.19286702,  0.09755776,\n",
        "        0.20324281,  0.06831624,  0.0201731 ,  0.21148659,  0.11384443,\n",
        "        0.15853229, -0.13837332, -0.16261661,  0.04020083,  0.04852684,\n",
        "       -0.36902318, -0.33937138, -1.04901693, -1.15590795, -0.64035047,\n",
        "       -0.64751312, -0.73079198, -0.83589804, -0.63632135, -0.57798363,\n",
        "       -0.66063122, -0.50114568, -0.26873872, -0.4286607 , -0.16660222,\n",
        "       -0.06906195, -0.08079618, -0.19781628, -0.40285694, -0.28616723,\n",
        "       -1.05178668, -1.3159801 , -0.38649232, -0.47991511, -1.07266342,\n",
        "       -1.04199815, -0.2493929 , -0.4959408 , -0.44631987, -0.42206056,\n",
        "       -0.75454115, -0.7979622 , -0.06186807, -0.12418551, -0.54159387,\n",
        "       -0.40126899, -0.71703783, -0.89046221, -0.58013052, -0.76045996,\n",
        "       -0.45830475, -0.44399095, -0.4202269 , -0.7568427 , -0.50519778,\n",
        "       -0.70342487, -0.42430842, -0.62425991, -0.26190963,  0.17435553,\n",
        "       -0.82704006, -0.98665174, -0.60680142, -0.72929639, -0.44598455,\n",
        "       -0.55628792, -0.47408737, -0.48474025, -0.06851106, -0.07910184,\n",
        "       -0.0425659 ,  0.1400416 , -0.7619372 , -0.88056197,  0.0274312 ,\n",
        "       -0.2560459 ,  0.11272699, -0.10372014, -0.64788566, -0.74291104,\n",
        "       -0.76967982, -0.9890883 ,  0.33590845,  0.51596591, -0.05271837,\n",
        "       -0.14699209, -0.49166429, -0.73474174, -0.21840567, -0.38937093,\n",
        "        0.57723947,  0.4930328 ,  0.0895827 ,  0.02112867, -0.05284528,\n",
        "       -0.01886314, -0.35095267, -0.33898848, -0.29672816, -0.37397784,\n",
        "       -0.21303153, -0.38219284, -0.01262825, -0.03163891, -0.20191641,\n",
        "       -0.45812773, -0.55322118, -0.76032999, -0.42524296, -0.47169833,\n",
        "       -0.40681665, -0.5474089 , -0.32781907, -0.34319213, -0.17546527,\n",
        "       -0.20673362, -0.56381392, -0.75544111, -0.45689665, -0.61383493,\n",
        "       -0.82684033, -1.13487447, -0.18225679, -0.26285572,  0.14220473,\n",
        "        0.4346668 , -0.13821832, -0.34473099, -0.59608187, -0.94377013,\n",
        "       -0.38616997, -0.57267669, -0.44131744, -0.59202904, -0.21529544,\n",
        "       -0.27971315, -0.21180013, -0.34425639, -0.33002517, -0.37860626,\n",
        "       -0.48577227, -0.42125248, -0.06628731,  0.01468509, -0.35928776,\n",
        "       -0.4436429 , -0.27236168, -0.19032704, -0.31458217, -0.40435135,\n",
        "       -0.17286286, -0.02932716,  0.39003591,  0.81531674, -0.07101711,\n",
        "        0.02980012, -0.81446939, -0.702107  , -0.1125923 , -0.16664455,\n",
        "       -0.47232893, -0.6517765 , -0.37345967, -0.38134469, -0.05488261,\n",
        "       -0.2225843 , -0.39472662, -0.35566944,  0.09505826,  0.20700287,\n",
        "        1.24997469,  1.16740154,  1.05297306,  0.98211021,  1.01989562,\n",
        "        1.09785954,  1.69974183,  1.76456846,  1.19368247,  1.22070163,\n",
        "        1.16337072,  1.31881505,  1.31805518,  1.19856845,  1.22488279,\n",
        "        1.14550231,  1.18613075,  1.02357792,  1.03342384,  1.0075318 ,\n",
        "        0.88093823,  1.41766643,  1.54389185,  1.11275238,  1.0393641 ,\n",
        "        1.58988843,  1.17827368,  1.31258153,  1.25662342,  1.30691139,\n",
        "        1.18367745,  0.21275028,  0.34561331,  0.32687101,  0.4930995 ,\n",
        "       -0.14799884, -0.03581479, -0.16933362, -0.25499862, -0.25676417,\n",
        "       -0.2799826 ,  0.07432777,  0.23463591, -0.33082561, -0.47040555,\n",
        "       -0.3469377 , -0.41784662, -0.36119127, -0.46187012, -0.26690803,\n",
        "       -0.49843366, -0.2244007 , -0.37115492, -0.43721754, -0.34673409,\n",
        "       -0.08468864, -0.17112684, -0.47331857, -0.25765008, -0.40555432,\n",
        "       -0.55048715, -0.43372478, -0.63502707, -0.48671625, -0.67277612,\n",
        "       -0.36756992, -0.44577389, -0.10898482, -0.26388159, -0.60938431,\n",
        "       -0.66429213, -0.49989842, -0.56495812, -0.40680649, -0.29817451,\n",
        "       -0.15897709, -0.23211076, -0.48955376, -0.58499077, -0.39814176,\n",
        "       -0.49032164, -0.08916997, -0.26411237, -0.37554889, -0.47114206,\n",
        "       -0.52867337, -0.67132844, -0.12767869, -0.1089278 , -0.22483071,\n",
        "       -0.15836023, -0.28194921, -0.22927246, -0.40976081, -0.51837655,\n",
        "       -1.1479846 , -1.25265067, -0.6320643 , -0.62914137, -0.8794736 ,\n",
        "       -0.91390219, -0.1894399 , -0.28556586, -1.01516564, -1.13586773,\n",
        "       -0.87231874, -0.97447643, -0.97172597, -0.92673225, -0.74155032,\n",
        "       -0.77422295, -0.22401048, -0.24663695, -0.59002321, -0.63628862,\n",
        "       -0.95052955, -1.1050471 , -0.45004154, -0.40900348, -0.89541355,\n",
        "       -0.55548952, -1.17143688, -0.91905874, -1.18802417, -1.30122358,\n",
        "       -1.37889687, -1.0567391 ,  0.74707265,  0.74957085,  1.03682834,\n",
        "        1.06243331,  0.49904589,  0.53260596,  0.65542908,  0.58453959,\n",
        "        0.70382018,  0.82271472,  0.47907882,  0.7384509 ,  0.63510347,\n",
        "        0.40422976,  0.35683114,  0.49293732,  0.56145607,  0.32170825,\n",
        "        0.36441288,  0.74791053,  0.7684991 ,  0.47650287,  0.41601859,\n",
        "        0.64913033,  0.64538057,  0.49898465,  0.53362088,  0.83819245,\n",
        "        0.7809944 ,  0.18466121,  0.22313102,  1.30357843,  1.7411049 ,\n",
        "        0.94065099,  1.20902759,  0.68637892,  0.88280894,  0.83650892,\n",
        "        0.91646369,  1.10754752,  1.23748183,  1.45644078,  1.91286313,\n",
        "        0.98931741,  1.00348756,  0.89032285,  1.01703525,  1.33776818,\n",
        "        1.10868226,  1.16458824,  1.25379774,  1.29786493,  1.50183895,\n",
        "        1.20318972,  1.59570383,  1.26464699,  1.24296661,  1.12700125,\n",
        "        0.16383548,  1.11599829,  1.35970756,  0.9135843 ,  1.0383469 ,\n",
        "        0.20073386,  0.37753138,  1.44234641,  1.62961773,  0.1773948 ,\n",
        "        0.11391361, -0.0251736 , -0.09634361,  0.25540849,  0.17782629,\n",
        "        1.28752465,  1.86816267,  1.56009112,  1.91140394, -0.22767784,\n",
        "       -0.41667444, -0.17247106, -0.18624383,  1.35636444,  1.82633873,\n",
        "        0.92179644,  1.10933327, -0.43514527, -0.42657818, -0.42114211,\n",
        "       -0.47907787,  0.19100267,  0.05306622,  1.69305714,  1.99207287,\n",
        "        0.18261465,  0.84017102, -0.56204306, -0.55040322,  0.44447018,\n",
        "        0.47873504, -0.53478615, -0.50449297, -0.47406352, -0.39688137,\n",
        "       -0.60803059, -0.743939  ,  0.19734155,  0.09034629, -0.14002333,\n",
        "       -0.0242174 , -0.33692553, -0.22030832, -0.77686515, -0.77951901,\n",
        "       -0.35473049, -0.40768825, -0.9033943 , -0.8711844 , -0.47122156,\n",
        "       -0.42513798, -0.66794409, -0.81032764, -0.25481814, -0.34067806,\n",
        "       -0.6957336 , -0.43605215, -0.41250014, -0.23434021,  0.74157824,\n",
        "        0.74280424,  0.58119339,  0.74408182,  1.68285547,  1.75773931,\n",
        "        1.45514285,  2.0956053 ,  0.18169283,  0.46846662,  0.35617719,\n",
        "        0.31031887,  0.67182826,  0.69340998,  0.30141683,  0.41948818,\n",
        "        0.14857409,  0.22428793,  0.59254547,  0.54181309,  0.52035174,\n",
        "        0.59507731,  0.29145249,  0.34295135,  0.62829288,  0.63859242,\n",
        "        0.33754275,  0.21567975,  0.59547722,  0.58072863,  0.40852702,\n",
        "        0.39210374,  1.6947197 ,  1.63111171,  1.56565871,  1.31981205,\n",
        "        1.84098818,  1.86726666,  1.62606696,  1.42509222,  1.72740611,\n",
        "        1.84155018,  1.61251701,  1.84544117,  1.90557294,  2.07325139,\n",
        "        0.59613759,  0.72576414,  1.24287263,  1.25162032,  1.23152996,\n",
        "        1.36560706,  1.16678403,  1.31568855,  1.13638057,  1.12735527,\n",
        "        1.30867915,  1.24255289,  1.07744594,  1.17292226,  0.97710081,\n",
        "        1.25893906,  1.18698476,  1.30816746, -0.13160589, -0.23644729,\n",
        "       -0.38844005, -0.57160559, -0.73527396, -1.06340236, -0.34436862,\n",
        "       -0.4713998 ,  0.00601886, -0.34225435, -0.48714043, -0.72348381,\n",
        "       -0.43270775, -0.65317061, -0.65391983, -0.90475956, -0.72943827,\n",
        "       -0.58772782, -0.45350635, -0.81285322, -0.3351717 , -0.84409922,\n",
        "       -0.41984533, -0.47638989, -0.34263867, -0.77363255, -0.20005031,\n",
        "       -0.68832792, -0.47858657, -0.99261118, -0.44800387, -0.79169533,\n",
        "       -0.26698596, -0.4782756 , -0.28026108, -0.77947723,  0.35209793,\n",
        "        0.08164327,  0.18899335, -0.38078624, -0.18345061, -0.48091119,\n",
        "       -0.07165493, -0.77730796,  0.07018145,  0.35370416, -0.42245709,\n",
        "       -0.72387647, -0.13034609, -0.39083525, -0.50731792, -0.72140406,\n",
        "       -0.66840727, -0.25970552, -0.38534391, -0.73421821, -0.20922824,\n",
        "       -0.48114637, -0.59949849, -0.61324266, -0.32523076, -0.81193769,\n",
        "       -0.63597395, -0.90266897,  0.80932571,  0.53339113,  0.2722102 ,\n",
        "        0.44176426,  0.23113133,  0.45316177, -0.0546306 ,  0.03128501,\n",
        "       -0.44511053, -0.60801543,  0.80696298,  0.61686906, -0.43497863,\n",
        "       -0.711315  , -0.31011663, -0.36098988,  0.27900609,  0.42728452,\n",
        "       -0.10035525, -0.43123534, -0.02339121,  0.21664835, -0.04946298,\n",
        "        0.02800701,  0.26774463,  0.28972735,  0.21822648,  0.11742757,\n",
        "       -0.24012071, -0.35256007,  0.27482674,  0.26751022, -0.11924149,\n",
        "       -0.31848713, -0.3854537 , -0.49410353, -0.4657656 , -0.48632133,\n",
        "       -0.50142212, -0.14912673, -0.33874042, -0.15351749, -0.31833114,\n",
        "       -0.35263022, -0.3537101 , -0.60199725, -0.68134854, -0.46120984,\n",
        "       -0.56856362, -0.45568354, -0.60086222, -0.15905462, -0.26082761,\n",
        "       -0.62611766, -0.70811356, -0.40031277, -0.46653081, -0.56278391,\n",
        "       -0.75073029, -0.43191099, -0.54808946, -0.52072374, -0.58258867,\n",
        "        0.03495563, -0.04202026, -0.17160417, -0.44103719, -0.33171436,\n",
        "       -0.35485878, -0.26477957, -0.2044369 , -0.09417356, -0.06030023,\n",
        "       -0.19013194, -0.25431012, -0.40952301, -0.65514272, -0.19669918,\n",
        "       -0.1626466 , -0.04740111,  0.0049226 , -0.17849178, -0.23817333,\n",
        "       -0.16833288, -0.16499901, -0.23046647, -0.31599084, -0.46093526,\n",
        "       -0.4256218 , -0.39323877, -0.46625479, -0.43240996, -0.57089437,\n",
        "       -0.18163499, -0.20779026, -0.8164268 , -1.02367783, -0.63806672,\n",
        "       -0.71302446])"
       ]
      }
     ],
     "prompt_number": 30
    },
    {
     "cell_type": "code",
     "collapsed": false,
     "input": [
      "model = LinearRegression()\n",
      "fit_model = model.fit(X, y)"
     ],
     "language": "python",
     "metadata": {},
     "outputs": [],
     "prompt_number": 31
    },
    {
     "cell_type": "code",
     "collapsed": false,
     "input": [
      "fit_model.predict(AfricaTest.ix['JmEfIxOL'])"
     ],
     "language": "python",
     "metadata": {},
     "outputs": [
      {
       "metadata": {},
       "output_type": "pyout",
       "prompt_number": 32,
       "text": [
        "-0.43136572224131786"
       ]
      }
     ],
     "prompt_number": 32
    },
    {
     "cell_type": "code",
     "collapsed": false,
     "input": [],
     "language": "python",
     "metadata": {},
     "outputs": []
    }
   ],
   "metadata": {}
  }
 ]
}