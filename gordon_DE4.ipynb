{
 "metadata": {
  "name": "DE4"
 },
 "nbformat": 3,
 "nbformat_minor": 0,
 "worksheets": [
  {
   "cells": [
    {
     "cell_type": "code",
     "collapsed": false,
     "input": "import sklearn as sk\nfrom sklearn.datasets import load_diabetes\nimport numpy as np\nimport pandas as pd\nfrom sklearn.linear_model import LinearRegression, Ridge, Lasso\nfrom sklearn.linear_model import Ridge\nimport seaborn as sns\nimport matplotlib.pyplot as plt\nimport statsmodels.api as sm\nfrom sklearn.cross_validation import train_test_split\nimport warnings\nwarnings.filterwarnings(\"ignore\", category=DeprecationWarning)\nfrom sklearn import cross_validation\nfrom sklearn.cross_validation import KFold\nfrom sklearn.cross_validation import train_test_split\nfrom sklearn.cross_validation import cross_val_score\nfrom sklearn.metrics import mean_squared_error\nfrom itertools import combinations\nfrom collections import defaultdict",
     "language": "python",
     "metadata": {},
     "outputs": [],
     "prompt_number": "*"
    },
    {
     "cell_type": "markdown",
     "metadata": {},
     "source": "The diabetes data set consists of 10 physiological variables (age, sex, weight, blood pressure) measure on 442 patients and an indication of disease progression after one year."
    },
    {
     "cell_type": "code",
     "collapsed": false,
     "input": "data = load_diabetes()",
     "language": "python",
     "metadata": {},
     "outputs": [],
     "prompt_number": "*"
    },
    {
     "cell_type": "code",
     "collapsed": false,
     "input": "df = pd.DataFrame(data.data)",
     "language": "python",
     "metadata": {},
     "outputs": [],
     "prompt_number": "*"
    },
    {
     "cell_type": "code",
     "collapsed": false,
     "input": "df['y'] = data.target\nheader_row = ['age', 'sex', 'bmi', 'av_blood_pressure', 'bloodserum01', 'bloodserum02', 'bloodserum03', 'bloodserum04', 'bloodserum05', 'bloodserum06','y']\ndf.columns =  header_row\n\ndf.head()",
     "language": "python",
     "metadata": {},
     "outputs": [],
     "prompt_number": "*"
    },
    {
     "cell_type": "code",
     "collapsed": false,
     "input": "len(df)",
     "language": "python",
     "metadata": {},
     "outputs": [],
     "prompt_number": "*"
    },
    {
     "cell_type": "code",
     "collapsed": false,
     "input": "predictors = []\nfor i in range(len(df.columns)-1):\n    predictors.append(df.columns[i])\n    \nprint predictors",
     "language": "python",
     "metadata": {},
     "outputs": [],
     "prompt_number": "*"
    },
    {
     "cell_type": "markdown",
     "metadata": {},
     "source": "   KFold Analysis"
    },
    {
     "cell_type": "code",
     "collapsed": false,
     "input": "cv_errors = []\nndegrees = 10\nfor ndegree in range(1, ndegrees):\n    x = np.power(df[predictors].values, ndegree)\n    y = df[\"y\"].values\n    kfold = KFold(len(df), n_folds=10)\n    mses = []\n    for train, test in kfold:\n        xtrain, ytrain, xtest, ytest = x[train], y[train], x[test], y[test]   \n        model = LinearRegression(normalize=True, fit_intercept=False)\n        model.fit(x, y)\n        ypred = model.predict(xtest)\n        mses.append(mean_squared_error(ypred, ytest))\n    cv_errors.append(np.mean(mses))",
     "language": "python",
     "metadata": {},
     "outputs": [],
     "prompt_number": "*"
    },
    {
     "cell_type": "code",
     "collapsed": false,
     "input": "print mses",
     "language": "python",
     "metadata": {},
     "outputs": [],
     "prompt_number": "*"
    },
    {
     "cell_type": "code",
     "collapsed": false,
     "input": "print cv_errors",
     "language": "python",
     "metadata": {},
     "outputs": [],
     "prompt_number": "*"
    },
    {
     "cell_type": "code",
     "collapsed": false,
     "input": "",
     "language": "python",
     "metadata": {},
     "outputs": []
    }
   ],
   "metadata": {}
  }
 ]
}