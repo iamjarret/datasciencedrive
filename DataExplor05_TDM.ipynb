{
 "metadata": {
  "name": "",
  "signature": "sha256:3093db99125538de46a614f197daf24d54d92d7503b31687c69f8fcbe7776a0c"
 },
 "nbformat": 3,
 "nbformat_minor": 0,
 "worksheets": [
  {
   "cells": [
    {
     "cell_type": "markdown",
     "metadata": {},
     "source": [
      "## Tweet Sentiment Analysis - Thomas Miller\n",
      "\n",
      "Create a twitter classifier with naive bayes and check the sentiment for a keyword of your choice.\n",
      "Train your classifier with the \"tweet_training.csv\" file\n",
      "\n",
      "Sentiment is described as \"polarity,\" where:\n",
      "\n",
      "- \"0\" = negative\n",
      "- \"4\" = positive"
     ]
    },
    {
     "cell_type": "code",
     "collapsed": false,
     "input": [
      "data = pd.read_csv('/home/vagrant/notebooks/fall_2014_lessons/datasets/tweet_training.csv', delimiter=';').dropna()"
     ],
     "language": "python",
     "metadata": {},
     "outputs": [],
     "prompt_number": 1372
    },
    {
     "cell_type": "code",
     "collapsed": false,
     "input": [
      "import pandas as pd\n",
      "import numpy as np\n",
      "from sklearn.feature_extraction.text import CountVectorizer\n",
      "from sklearn.naive_bayes import MultinomialNB\n",
      "from sklearn.naive_bayes import BernoulliNB\n",
      "from sklearn.linear_model import LogisticRegression"
     ],
     "language": "python",
     "metadata": {},
     "outputs": [],
     "prompt_number": 1373
    },
    {
     "cell_type": "code",
     "collapsed": false,
     "input": [
      "data['percent_capitalized'] = data.tweet.apply(lambda x: sum([float(x[i] == x.upper()[i]) for i in range(len(x))])/len(x))\n",
      "data.tail()"
     ],
     "language": "python",
     "metadata": {},
     "outputs": [
      {
       "html": [
        "<div style=\"max-height:1000px;max-width:1500px;overflow:auto;\">\n",
        "<table border=\"1\" class=\"dataframe\">\n",
        "  <thead>\n",
        "    <tr style=\"text-align: right;\">\n",
        "      <th></th>\n",
        "      <th>id</th>\n",
        "      <th>polarity</th>\n",
        "      <th>tweet</th>\n",
        "      <th>percent_capitalized</th>\n",
        "    </tr>\n",
        "  </thead>\n",
        "  <tbody>\n",
        "    <tr>\n",
        "      <th>2029</th>\n",
        "      <td> 1468049681</td>\n",
        "      <td> 0</td>\n",
        "      <td> A king sized bed is nice but sad and lonely wi...</td>\n",
        "      <td> 0.245763</td>\n",
        "    </tr>\n",
        "    <tr>\n",
        "      <th>2030</th>\n",
        "      <td> 2195475499</td>\n",
        "      <td> 0</td>\n",
        "      <td> @breannalovesjb hurry up home!!!!! im dying wi...</td>\n",
        "      <td> 0.250000</td>\n",
        "    </tr>\n",
        "    <tr>\n",
        "      <th>2031</th>\n",
        "      <td> 1996172176</td>\n",
        "      <td> 0</td>\n",
        "      <td> @jordanhowell lol only a PSP, had a game boy b...</td>\n",
        "      <td> 0.311828</td>\n",
        "    </tr>\n",
        "    <tr>\n",
        "      <th>2032</th>\n",
        "      <td> 2016105580</td>\n",
        "      <td> 4</td>\n",
        "      <td> Good morning everyone!  It is such a beautiful...</td>\n",
        "      <td> 0.287671</td>\n",
        "    </tr>\n",
        "    <tr>\n",
        "      <th>2033</th>\n",
        "      <td> 2186977170</td>\n",
        "      <td> 4</td>\n",
        "      <td> hey guess was @magicmanil the Lakers won and K...</td>\n",
        "      <td> 0.274725</td>\n",
        "    </tr>\n",
        "  </tbody>\n",
        "</table>\n",
        "</div>"
       ],
       "metadata": {},
       "output_type": "pyout",
       "prompt_number": 1374,
       "text": [
        "              id  polarity                                              tweet  \\\n",
        "2029  1468049681         0  A king sized bed is nice but sad and lonely wi...   \n",
        "2030  2195475499         0  @breannalovesjb hurry up home!!!!! im dying wi...   \n",
        "2031  1996172176         0  @jordanhowell lol only a PSP, had a game boy b...   \n",
        "2032  2016105580         4  Good morning everyone!  It is such a beautiful...   \n",
        "2033  2186977170         4  hey guess was @magicmanil the Lakers won and K...   \n",
        "\n",
        "      percent_capitalized  \n",
        "2029             0.245763  \n",
        "2030             0.250000  \n",
        "2031             0.311828  \n",
        "2032             0.287671  \n",
        "2033             0.274725  "
       ]
      }
     ],
     "prompt_number": 1374
    },
    {
     "cell_type": "markdown",
     "metadata": {},
     "source": [
      "<h2>Ngram of 2 seems to produce best results</h2>"
     ]
    },
    {
     "cell_type": "code",
     "collapsed": false,
     "input": [
      "vectorizer = CountVectorizer(ngram_range = (1, 2))\n",
      "X = vectorizer.fit_transform(data.tweet) "
     ],
     "language": "python",
     "metadata": {},
     "outputs": [],
     "prompt_number": 1375
    },
    {
     "cell_type": "code",
     "collapsed": false,
     "input": [
      "polarity_X = vectorizer.fit(data.tweet) "
     ],
     "language": "python",
     "metadata": {},
     "outputs": [],
     "prompt_number": 1376
    },
    {
     "cell_type": "code",
     "collapsed": false,
     "input": [
      "y = (data.polarity == 4).values.astype(np.int)"
     ],
     "language": "python",
     "metadata": {},
     "outputs": [],
     "prompt_number": 1377
    },
    {
     "cell_type": "markdown",
     "metadata": {},
     "source": [
      "<h2>Create training data</h2>"
     ]
    },
    {
     "cell_type": "code",
     "collapsed": false,
     "input": [
      "from sklearn.cross_validation import train_test_split\n",
      "xtrain, xtest, ytrain, ytest = train_test_split(X, y)"
     ],
     "language": "python",
     "metadata": {},
     "outputs": [],
     "prompt_number": 1378
    },
    {
     "cell_type": "code",
     "collapsed": false,
     "input": [
      "def accuracy_report(_clf):\n",
      "    print \"Accuracy: %0.2f%%\" % (100 * _clf.score(xtest, ytest))\n",
      "\n",
      "    training_accuracy = _clf.score(xtrain, ytrain)\n",
      "    test_accuracy = _clf.score(xtest, ytest)\n",
      "\n",
      "    print \"Accuracy on training data: %0.2f\" % (training_accuracy)\n",
      "    \n",
      "def AnalyzeReview(testquote, clf):\n",
      "    print \"\\\"\"  + testquote + \"\\\" is judged by clasifier to be...\"\n",
      "    testquote = polarity_X.transform([testquote])\n",
      "\n",
      "    if (clf.predict(testquote)[0] == 0):\n",
      "        print \"... a sad tweet.\"\n",
      "    else:\n",
      "        print \"... a happy tweet.\"\n",
      "    return(clf.predict(testquote)[0])"
     ],
     "language": "python",
     "metadata": {},
     "outputs": [],
     "prompt_number": 1379
    },
    {
     "cell_type": "code",
     "collapsed": false,
     "input": [
      "print \"MultinomialNB:\"\n",
      "clf_m = MultinomialNB().fit(xtrain, ytrain)\n",
      "accuracy_report(clf_m)"
     ],
     "language": "python",
     "metadata": {},
     "outputs": [
      {
       "output_type": "stream",
       "stream": "stdout",
       "text": [
        "MultinomialNB:\n",
        "Accuracy: 83.89%\n",
        "Accuracy on training data: 0.99\n"
       ]
      }
     ],
     "prompt_number": 1380
    },
    {
     "cell_type": "code",
     "collapsed": false,
     "input": [
      "print \"BernoulliNB:\"\n",
      "clf_b = BernoulliNB().fit(xtrain, ytrain)\n",
      "accuracy_report(clf_b)"
     ],
     "language": "python",
     "metadata": {},
     "outputs": [
      {
       "output_type": "stream",
       "stream": "stdout",
       "text": [
        "BernoulliNB:\n",
        "Accuracy: 68.96%\n",
        "Accuracy on training data: 0.82\n"
       ]
      }
     ],
     "prompt_number": 1381
    },
    {
     "cell_type": "code",
     "collapsed": false,
     "input": [
      "print \"Logistic Regression:\"\n",
      "clf_l = LogisticRegression().fit(xtrain, ytrain)\n",
      "accuracy_report(clf_l)"
     ],
     "language": "python",
     "metadata": {},
     "outputs": [
      {
       "output_type": "stream",
       "stream": "stdout",
       "text": [
        "Logistic Regression:\n",
        "Accuracy: 81.53%"
       ]
      },
      {
       "output_type": "stream",
       "stream": "stdout",
       "text": [
        "\n",
        "Accuracy on training data: 1.00\n"
       ]
      }
     ],
     "prompt_number": 1382
    },
    {
     "cell_type": "markdown",
     "metadata": {},
     "source": [
      "<h2>Happy Test</h2>"
     ]
    },
    {
     "cell_type": "code",
     "collapsed": false,
     "input": [
      "AnalyzeReview('haha', clf_m)"
     ],
     "language": "python",
     "metadata": {},
     "outputs": [
      {
       "output_type": "stream",
       "stream": "stdout",
       "text": [
        "\"haha\" is judged by clasifier to be...\n",
        "... a happy tweet.\n"
       ]
      },
      {
       "metadata": {},
       "output_type": "pyout",
       "prompt_number": 1383,
       "text": [
        "1"
       ]
      }
     ],
     "prompt_number": 1383
    },
    {
     "cell_type": "code",
     "collapsed": false,
     "input": [
      "AnalyzeReview('haha', clf_b)"
     ],
     "language": "python",
     "metadata": {},
     "outputs": [
      {
       "output_type": "stream",
       "stream": "stdout",
       "text": [
        "\"haha\" is judged by clasifier to be...\n",
        "... a sad tweet.\n"
       ]
      },
      {
       "metadata": {},
       "output_type": "pyout",
       "prompt_number": 1384,
       "text": [
        "0"
       ]
      }
     ],
     "prompt_number": 1384
    },
    {
     "cell_type": "code",
     "collapsed": false,
     "input": [
      "AnalyzeReview('haha', clf_l)"
     ],
     "language": "python",
     "metadata": {},
     "outputs": [
      {
       "output_type": "stream",
       "stream": "stdout",
       "text": [
        "\"haha\" is judged by clasifier to be...\n",
        "... a happy tweet.\n"
       ]
      },
      {
       "metadata": {},
       "output_type": "pyout",
       "prompt_number": 1385,
       "text": [
        "1"
       ]
      }
     ],
     "prompt_number": 1385
    },
    {
     "cell_type": "markdown",
     "metadata": {},
     "source": [
      "<h2>Sad Test</h2>"
     ]
    },
    {
     "cell_type": "code",
     "collapsed": false,
     "input": [
      "AnalyzeReview('upsetting', clf_m)"
     ],
     "language": "python",
     "metadata": {},
     "outputs": [
      {
       "output_type": "stream",
       "stream": "stdout",
       "text": [
        "\"upsetting\" is judged by clasifier to be...\n",
        "... a sad tweet.\n"
       ]
      },
      {
       "metadata": {},
       "output_type": "pyout",
       "prompt_number": 1386,
       "text": [
        "0"
       ]
      }
     ],
     "prompt_number": 1386
    },
    {
     "cell_type": "code",
     "collapsed": false,
     "input": [
      "AnalyzeReview('upsetting', clf_b)"
     ],
     "language": "python",
     "metadata": {},
     "outputs": [
      {
       "output_type": "stream",
       "stream": "stdout",
       "text": [
        "\"upsetting\" is judged by clasifier to be...\n",
        "... a sad tweet.\n"
       ]
      },
      {
       "metadata": {},
       "output_type": "pyout",
       "prompt_number": 1387,
       "text": [
        "0"
       ]
      }
     ],
     "prompt_number": 1387
    },
    {
     "cell_type": "code",
     "collapsed": false,
     "input": [
      "AnalyzeReview('upsetting', clf_l)"
     ],
     "language": "python",
     "metadata": {},
     "outputs": [
      {
       "output_type": "stream",
       "stream": "stdout",
       "text": [
        "\"upsetting\" is judged by clasifier to be...\n",
        "... a sad tweet.\n"
       ]
      },
      {
       "metadata": {},
       "output_type": "pyout",
       "prompt_number": 1388,
       "text": [
        "0"
       ]
      }
     ],
     "prompt_number": 1388
    },
    {
     "cell_type": "markdown",
     "metadata": {},
     "source": [
      "<h2>A look at mislabeled tweets</h2>"
     ]
    },
    {
     "cell_type": "code",
     "collapsed": false,
     "input": [
      "def missed_tweets(clf):\n",
      "\n",
      "    prob = clf.predict_proba(X)[:, 0]\n",
      "\n",
      "    predict = clf.predict(X)\n",
      "\n",
      "    Y == 0\n",
      "    np.argsort((prob[Y==0]))[:5]\n",
      "    negative = np.argsort(prob[Y == 0])[:5]\n",
      "    positive = np.argsort(prob[Y == 1])[-5:]\n",
      "    print \"Mis-predicted negative tweets\"\n",
      "    print '---------------------------'\n",
      "    for row in negative:\n",
      "        print data[Y == 0].tweet.irow(row)\n",
      "        print\n",
      "\n",
      "    print \"Mis-predicted positive tweets\"\n",
      "    print '--------------------------'\n",
      "    for row in positive:\n",
      "        print data[Y == 1].tweet.irow(row)\n",
      "        print"
     ],
     "language": "python",
     "metadata": {},
     "outputs": [],
     "prompt_number": 1389
    },
    {
     "cell_type": "code",
     "collapsed": false,
     "input": [
      "missed_tweets(clf_m)"
     ],
     "language": "python",
     "metadata": {},
     "outputs": [
      {
       "output_type": "stream",
       "stream": "stdout",
       "text": [
        "Mis-predicted negative tweets\n",
        "---------------------------\n",
        "@crystalchappell Good luck N ur meets. Idea to save GL - go on Oprah &amp; Ellen &amp; talk about GL &amp; Otalia. Would reach Millions of new fans \n",
        "\n",
        "Good morning to all followers. I wish you a nice Tuesday and good luck with your business. | Allen Verfolgern einen sonnigen Dienstag.  \n",
        "\n",
        "@markhoppus  hey mark!!  so glad to see you guys all back together   seen youse when you played newcastle arena , england, great show!! \n",
        "\n",
        "@DanniAsheOnline Awwww she called me sexy  nice! you rock Danni! you just made my night gurl! muah! I'll give you props anytime! \n",
        "\n",
        "@luvsJonasandVFC YUP! I'm seeing them in August! woot woot!  my first concert was with Corbin Bleu, Drake Bell, and Aly &amp; AJ! \n",
        "\n",
        "Mis-predicted positive tweets\n",
        "--------------------------\n",
        "Google contacts on Pre. Problem is that it imports all contacts while the iphone just imports 1 folder 'my contacts'. Have to clean'em up \n",
        "\n",
        "Currently trying to get to level ten on this vampire thing, still wishing my damn PSP would work. Have to wait til Monday to get it fixed \n",
        "\n",
        "did ALL our work in one day and now im paying for it with one hellofa headache  My man went to get McDonalds for dinner so i dont cook xxo\n",
        "\n",
        "I really want an iPhone, but I have to pay a few things off first. Why do I have to be so dang responsible?! \n",
        "\n",
        "sad that the 'feet' of my macbook just fell off : sad that the 'feet' of my macbook just fell off \n",
        "\n"
       ]
      }
     ],
     "prompt_number": 1390
    },
    {
     "cell_type": "code",
     "collapsed": false,
     "input": [
      "missed_tweets(clf_b)"
     ],
     "language": "python",
     "metadata": {},
     "outputs": [
      {
       "output_type": "stream",
       "stream": "stdout",
       "text": [
        "Mis-predicted negative tweets\n",
        "---------------------------\n",
        "@crystalchappell Good luck N ur meets. Idea to save GL - go on Oprah &amp; Ellen &amp; talk about GL &amp; Otalia. Would reach Millions of new fans \n",
        "\n",
        "@markhoppus  hey mark!!  so glad to see you guys all back together   seen youse when you played newcastle arena , england, great show!! \n",
        "\n",
        "Good morning to all followers. I wish you a nice Tuesday and good luck with your business. | Allen Verfolgern einen sonnigen Dienstag.  \n",
        "\n",
        "@DanniAsheOnline Awwww she called me sexy  nice! you rock Danni! you just made my night gurl! muah! I'll give you props anytime! \n",
        "\n",
        "@JonathanRKnight Hi Jon! Great to hear from you! See you on the cruise, I cannot wait! Hope all is well on the Knight bus!  You are loved!\n",
        "\n",
        "Mis-predicted positive tweets\n",
        "--------------------------\n",
        "Itchy eyes!! Stupid hayfever \n",
        "\n",
        "Damn @omgk I finally hit 10k and I have been on #xbox for over 3 years \n",
        "\n",
        "Very sad about Farrah Fawcett  People shouldn't have to die from cancer anymore, let's please find a cure!! :-/\n",
        "\n",
        "Fever, headache, fatigue - got the bug from the kids. Water and Airborne did not help. \n",
        "\n",
        "@jordanhowell lol only a PSP, had a game boy but my cousin lost it  &amp; theres a N64 around\n",
        "\n"
       ]
      }
     ],
     "prompt_number": 1391
    },
    {
     "cell_type": "code",
     "collapsed": false,
     "input": [
      "missed_tweets(clf_l)"
     ],
     "language": "python",
     "metadata": {},
     "outputs": [
      {
       "output_type": "stream",
       "stream": "stdout",
       "text": [
        "Mis-predicted negative tweets\n",
        "---------------------------\n",
        "http://bit.ly/16BoLQ  FTSK's version of Taylor Swift's LOVE STORY )) love it! I love them both! \n",
        "\n",
        "@LittleFletcher Hi Carrie! How are you? Girl, Brazil love you! Come visit here! Have a nice day!  xx\n",
        "\n",
        "Good morning to all followers. I wish you a nice Tuesday and good luck with your business. | Allen Verfolgern einen sonnigen Dienstag.  \n",
        "\n",
        "@David_Henrie haha i WISH i coudl meet you.. you should stop by seattle some time  home of the STARBUKS ;) I LOVE YOU DAVID!!\n",
        "\n",
        "@dornx give me time and ill come with you sa london! haha. good luck with that! \n",
        "\n",
        "Mis-predicted positive tweets\n",
        "--------------------------\n",
        "@VerseTheVillain No problem! Sad thing is I can't listen to it 'cause my phone won't load the player  is it in YouTube form or will it be?\n",
        "\n",
        "Think I figured out my Xbox Live auto sign-in problem...but Live is down so I can't test it   Don't really want to broadcast my SSID tho.\n",
        "\n",
        "Wants to be at home. I am hot, bad headache and still have to get my shots \n",
        "\n",
        "I really want an iPhone, but I have to pay a few things off first. Why do I have to be so dang responsible?! \n",
        "\n",
        "i feel like a nobody...i don't even have any spam email  no spam, no aim messages, no friends, no comments on site, no facebook stuff. \n",
        "\n"
       ]
      }
     ],
     "prompt_number": 1392
    },
    {
     "cell_type": "code",
     "collapsed": false,
     "input": [],
     "language": "python",
     "metadata": {},
     "outputs": [],
     "prompt_number": 1215
    },
    {
     "cell_type": "code",
     "collapsed": false,
     "input": [],
     "language": "python",
     "metadata": {},
     "outputs": [],
     "prompt_number": 1210
    },
    {
     "cell_type": "code",
     "collapsed": false,
     "input": [],
     "language": "python",
     "metadata": {},
     "outputs": []
    }
   ],
   "metadata": {}
  }
 ]
}